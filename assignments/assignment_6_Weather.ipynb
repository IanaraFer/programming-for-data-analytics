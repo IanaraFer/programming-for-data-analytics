{
 "cells": [
  {
   "cell_type": "code",
   "execution_count": 63,
   "metadata": {},
   "outputs": [
    {
     "name": "stdout",
     "output_type": "stream",
     "text": [
      "               Station Name: KNOCK AIRPORT\n",
      "0                   Station Height: 201 M \n",
      "1            date:  -  Date and Time (utc)\n",
      "2  rain:  -  Precipitation Amount (mm)\\t  \n",
      "3          temp:  -  Air Temperature (C)\\t\n",
      "4       wetb:  -  Wet Bulb Temperature (C)\n"
     ]
    }
   ],
   "source": [
    "import pandas as pd\n",
    "\n",
    "# Step 1: Download the CSV file\n",
    "url = \"https://cli.fusio.net/cli/climate_data/webdata/hly4935.csv\"\n",
    "data = pd.read_csv(url, delimiter=',', on_bad_lines='skip')\n",
    "\n",
    "# Print the first few rows of the CSV file to inspect its structure\n",
    "print(data.head())\n"
   ]
  },
  {
   "cell_type": "code",
   "execution_count": 64,
   "metadata": {},
   "outputs": [
    {
     "name": "stdout",
     "output_type": "stream",
     "text": [
      "Index(['Station Name: KNOCK AIRPORT'], dtype='object')\n"
     ]
    }
   ],
   "source": [
    "# Step 1: Download the CSV file\n",
    "url = \"https://cli.fusio.net/cli/climate_data/webdata/hly4935.csv\"\n",
    "data = pd.read_csv(url, delimiter=',', on_bad_lines='skip')\n",
    "\n",
    "# Print the column names to inspect their exact names\n",
    "print(data.columns)\n"
   ]
  },
  {
   "cell_type": "code",
   "execution_count": 65,
   "metadata": {},
   "outputs": [
    {
     "name": "stdout",
     "output_type": "stream",
     "text": [
      "                      date:  -  Date and Time (utc)\n",
      "0           rain:  -  Precipitation Amount (mm)\\t  \n",
      "1                   temp:  -  Air Temperature (C)\\t\n",
      "2                wetb:  -  Wet Bulb Temperature (C)\n",
      "3  dewpt: -  Dew Point Temperature (C)             \n",
      "4                   rhum:  -  Relative Humidity (%)\n"
     ]
    }
   ],
   "source": [
    "# Step 1: Download the CSV file\n",
    "url = \"https://cli.fusio.net/cli/climate_data/webdata/hly4935.csv\"\n",
    "data = pd.read_csv(url, delimiter=',', skiprows=5, on_bad_lines='skip')\n",
    "\n",
    "# Print the first few rows to inspect the structure\n",
    "print(data.head())\n"
   ]
  },
  {
   "cell_type": "code",
   "execution_count": 66,
   "metadata": {},
   "outputs": [
    {
     "name": "stdout",
     "output_type": "stream",
     "text": [
      "            rain:  -  Precipitation Amount (mm)\\t  \n",
      "0                   temp:  -  Air Temperature (C)\\t\n",
      "1                wetb:  -  Wet Bulb Temperature (C)\n",
      "2  dewpt: -  Dew Point Temperature (C)             \n",
      "3                   rhum:  -  Relative Humidity (%)\n",
      "4                vappr: -  Vapour Pressure (hPa)\\t \n"
     ]
    }
   ],
   "source": [
    "# Step 1: Download the CSV file\n",
    "url = \"https://cli.fusio.net/cli/climate_data/webdata/hly4935.csv\"\n",
    "data = pd.read_csv(url, delimiter=',', skiprows=6, on_bad_lines='skip')\n",
    "\n",
    "# Print the first few rows to inspect the structure\n",
    "print(data.head())\n"
   ]
  },
  {
   "cell_type": "code",
   "execution_count": 67,
   "metadata": {},
   "outputs": [
    {
     "name": "stdout",
     "output_type": "stream",
     "text": [
      "                rain:  -  Precipitation Amount (mm)     \n",
      "0                     temp:  -  Air Temperature (C)  NaN\n",
      "1                wetb:  -  Wet Bulb Temperature (C)  NaN\n",
      "2  dewpt: -  Dew Point Temperature (C)               NaN\n",
      "3                   rhum:  -  Relative Humidity (%)  NaN\n",
      "4                   vappr: -  Vapour Pressure (hPa)     \n"
     ]
    }
   ],
   "source": [
    "# Step 1: Download the CSV file\n",
    "url = \"https://cli.fusio.net/cli/climate_data/webdata/hly4935.csv\"\n",
    "data = pd.read_csv(url, delimiter='\\t', skiprows=6, on_bad_lines='skip')\n",
    "\n",
    "# Print the first few rows to inspect the structure\n",
    "print(data.head())"
   ]
  },
  {
   "cell_type": "code",
   "execution_count": 68,
   "metadata": {},
   "outputs": [
    {
     "name": "stdout",
     "output_type": "stream",
     "text": [
      "            rain:  -  Precipitation Amount (mm)\\t  \n",
      "0                   temp:  -  Air Temperature (C)\\t\n",
      "1                wetb:  -  Wet Bulb Temperature (C)\n",
      "2  dewpt: -  Dew Point Temperature (C)             \n",
      "3                   rhum:  -  Relative Humidity (%)\n",
      "4                vappr: -  Vapour Pressure (hPa)\\t \n",
      "5           msl:   -  Mean Sea Level Pressure (hPa)\n",
      "6                  wdsp:  -  Mean Wind Speed (knot)\n",
      "7     wddir: -  Predominant Wind Direction (degree)\n",
      "8          ww:    -  Synop code for Present Weather\n",
      "9             w:     -  Synop code for Past Weather\n",
      "Index(['rain:  -  Precipitation Amount (mm)\\t  '], dtype='object')\n"
     ]
    },
    {
     "ename": "ValueError",
     "evalue": "Length mismatch: Expected axis has 1 elements, new values have 16 elements",
     "output_type": "error",
     "traceback": [
      "\u001b[0;31m---------------------------------------------------------------------------\u001b[0m",
      "\u001b[0;31mValueError\u001b[0m                                Traceback (most recent call last)",
      "\u001b[1;32m/workspaces/programming-for-data-analytics/assignments/assignment_6_Weather.ipynb Cell 6\u001b[0m line \u001b[0;36m1\n\u001b[1;32m     <a href='vscode-notebook-cell://codespaces%2Bzany-xylophone-7vvqq4wqj9j62p9v9/workspaces/programming-for-data-analytics/assignments/assignment_6_Weather.ipynb#X51sdnNjb2RlLXJlbW90ZQ%3D%3D?line=11'>12</a>\u001b[0m \u001b[39mprint\u001b[39m(data\u001b[39m.\u001b[39mcolumns)\n\u001b[1;32m     <a href='vscode-notebook-cell://codespaces%2Bzany-xylophone-7vvqq4wqj9j62p9v9/workspaces/programming-for-data-analytics/assignments/assignment_6_Weather.ipynb#X51sdnNjb2RlLXJlbW90ZQ%3D%3D?line=13'>14</a>\u001b[0m \u001b[39m# Manually inspect the data and adjust the column names\u001b[39;00m\n\u001b[0;32m---> <a href='vscode-notebook-cell://codespaces%2Bzany-xylophone-7vvqq4wqj9j62p9v9/workspaces/programming-for-data-analytics/assignments/assignment_6_Weather.ipynb#X51sdnNjb2RlLXJlbW90ZQ%3D%3D?line=14'>15</a>\u001b[0m data\u001b[39m.\u001b[39;49mcolumns \u001b[39m=\u001b[39m [\u001b[39m'\u001b[39m\u001b[39mdate\u001b[39m\u001b[39m'\u001b[39m, \u001b[39m'\u001b[39m\u001b[39mrain\u001b[39m\u001b[39m'\u001b[39m, \u001b[39m'\u001b[39m\u001b[39mtemp\u001b[39m\u001b[39m'\u001b[39m, \u001b[39m'\u001b[39m\u001b[39mwetb\u001b[39m\u001b[39m'\u001b[39m, \u001b[39m'\u001b[39m\u001b[39mdewpt\u001b[39m\u001b[39m'\u001b[39m, \u001b[39m'\u001b[39m\u001b[39mvappr\u001b[39m\u001b[39m'\u001b[39m, \u001b[39m'\u001b[39m\u001b[39mrhum\u001b[39m\u001b[39m'\u001b[39m, \u001b[39m'\u001b[39m\u001b[39mmsl\u001b[39m\u001b[39m'\u001b[39m, \u001b[39m'\u001b[39m\u001b[39mwdsp\u001b[39m\u001b[39m'\u001b[39m, \u001b[39m'\u001b[39m\u001b[39mwddir\u001b[39m\u001b[39m'\u001b[39m, \u001b[39m'\u001b[39m\u001b[39mww\u001b[39m\u001b[39m'\u001b[39m, \u001b[39m'\u001b[39m\u001b[39mw\u001b[39m\u001b[39m'\u001b[39m, \u001b[39m'\u001b[39m\u001b[39msun\u001b[39m\u001b[39m'\u001b[39m, \u001b[39m'\u001b[39m\u001b[39mvis\u001b[39m\u001b[39m'\u001b[39m, \u001b[39m'\u001b[39m\u001b[39mclht\u001b[39m\u001b[39m'\u001b[39m, \u001b[39m'\u001b[39m\u001b[39mclamt\u001b[39m\u001b[39m'\u001b[39m]\n\u001b[1;32m     <a href='vscode-notebook-cell://codespaces%2Bzany-xylophone-7vvqq4wqj9j62p9v9/workspaces/programming-for-data-analytics/assignments/assignment_6_Weather.ipynb#X51sdnNjb2RlLXJlbW90ZQ%3D%3D?line=16'>17</a>\u001b[0m \u001b[39m# Convert the date column to datetime format\u001b[39;00m\n\u001b[1;32m     <a href='vscode-notebook-cell://codespaces%2Bzany-xylophone-7vvqq4wqj9j62p9v9/workspaces/programming-for-data-analytics/assignments/assignment_6_Weather.ipynb#X51sdnNjb2RlLXJlbW90ZQ%3D%3D?line=17'>18</a>\u001b[0m data[\u001b[39m'\u001b[39m\u001b[39mdate\u001b[39m\u001b[39m'\u001b[39m] \u001b[39m=\u001b[39m pd\u001b[39m.\u001b[39mto_datetime(data[\u001b[39m'\u001b[39m\u001b[39mdate\u001b[39m\u001b[39m'\u001b[39m])\n",
      "File \u001b[0;32m~/.local/lib/python3.12/site-packages/pandas/core/generic.py:6313\u001b[0m, in \u001b[0;36mNDFrame.__setattr__\u001b[0;34m(self, name, value)\u001b[0m\n\u001b[1;32m   6311\u001b[0m \u001b[39mtry\u001b[39;00m:\n\u001b[1;32m   6312\u001b[0m     \u001b[39mobject\u001b[39m\u001b[39m.\u001b[39m\u001b[39m__getattribute__\u001b[39m(\u001b[39mself\u001b[39m, name)\n\u001b[0;32m-> 6313\u001b[0m     \u001b[39mreturn\u001b[39;00m \u001b[39mobject\u001b[39;49m\u001b[39m.\u001b[39;49m\u001b[39m__setattr__\u001b[39;49m(\u001b[39mself\u001b[39;49m, name, value)\n\u001b[1;32m   6314\u001b[0m \u001b[39mexcept\u001b[39;00m \u001b[39mAttributeError\u001b[39;00m:\n\u001b[1;32m   6315\u001b[0m     \u001b[39mpass\u001b[39;00m\n",
      "File \u001b[0;32mproperties.pyx:69\u001b[0m, in \u001b[0;36mpandas._libs.properties.AxisProperty.__set__\u001b[0;34m()\u001b[0m\n",
      "File \u001b[0;32m~/.local/lib/python3.12/site-packages/pandas/core/generic.py:814\u001b[0m, in \u001b[0;36mNDFrame._set_axis\u001b[0;34m(self, axis, labels)\u001b[0m\n\u001b[1;32m    809\u001b[0m \u001b[39m\u001b[39m\u001b[39m\"\"\"\u001b[39;00m\n\u001b[1;32m    810\u001b[0m \u001b[39mThis is called from the cython code when we set the `index` attribute\u001b[39;00m\n\u001b[1;32m    811\u001b[0m \u001b[39mdirectly, e.g. `series.index = [1, 2, 3]`.\u001b[39;00m\n\u001b[1;32m    812\u001b[0m \u001b[39m\"\"\"\u001b[39;00m\n\u001b[1;32m    813\u001b[0m labels \u001b[39m=\u001b[39m ensure_index(labels)\n\u001b[0;32m--> 814\u001b[0m \u001b[39mself\u001b[39;49m\u001b[39m.\u001b[39;49m_mgr\u001b[39m.\u001b[39;49mset_axis(axis, labels)\n\u001b[1;32m    815\u001b[0m \u001b[39mself\u001b[39m\u001b[39m.\u001b[39m_clear_item_cache()\n",
      "File \u001b[0;32m~/.local/lib/python3.12/site-packages/pandas/core/internals/managers.py:238\u001b[0m, in \u001b[0;36mBaseBlockManager.set_axis\u001b[0;34m(self, axis, new_labels)\u001b[0m\n\u001b[1;32m    236\u001b[0m \u001b[39mdef\u001b[39;00m \u001b[39mset_axis\u001b[39m(\u001b[39mself\u001b[39m, axis: AxisInt, new_labels: Index) \u001b[39m-\u001b[39m\u001b[39m>\u001b[39m \u001b[39mNone\u001b[39;00m:\n\u001b[1;32m    237\u001b[0m     \u001b[39m# Caller is responsible for ensuring we have an Index object.\u001b[39;00m\n\u001b[0;32m--> 238\u001b[0m     \u001b[39mself\u001b[39;49m\u001b[39m.\u001b[39;49m_validate_set_axis(axis, new_labels)\n\u001b[1;32m    239\u001b[0m     \u001b[39mself\u001b[39m\u001b[39m.\u001b[39maxes[axis] \u001b[39m=\u001b[39m new_labels\n",
      "File \u001b[0;32m~/.local/lib/python3.12/site-packages/pandas/core/internals/base.py:98\u001b[0m, in \u001b[0;36mDataManager._validate_set_axis\u001b[0;34m(self, axis, new_labels)\u001b[0m\n\u001b[1;32m     95\u001b[0m     \u001b[39mpass\u001b[39;00m\n\u001b[1;32m     97\u001b[0m \u001b[39melif\u001b[39;00m new_len \u001b[39m!=\u001b[39m old_len:\n\u001b[0;32m---> 98\u001b[0m     \u001b[39mraise\u001b[39;00m \u001b[39mValueError\u001b[39;00m(\n\u001b[1;32m     99\u001b[0m         \u001b[39mf\u001b[39m\u001b[39m\"\u001b[39m\u001b[39mLength mismatch: Expected axis has \u001b[39m\u001b[39m{\u001b[39;00mold_len\u001b[39m}\u001b[39;00m\u001b[39m elements, new \u001b[39m\u001b[39m\"\u001b[39m\n\u001b[1;32m    100\u001b[0m         \u001b[39mf\u001b[39m\u001b[39m\"\u001b[39m\u001b[39mvalues have \u001b[39m\u001b[39m{\u001b[39;00mnew_len\u001b[39m}\u001b[39;00m\u001b[39m elements\u001b[39m\u001b[39m\"\u001b[39m\n\u001b[1;32m    101\u001b[0m     )\n",
      "\u001b[0;31mValueError\u001b[0m: Length mismatch: Expected axis has 1 elements, new values have 16 elements"
     ]
    }
   ],
   "source": [
    "import pandas as pd\n",
    "import matplotlib.pyplot as plt\n",
    "\n",
    "# Load the data with error handling and skip the first few rows\n",
    "url = 'https://cli.fusio.net/cli/climate_data/webdata/hly4935.csv'\n",
    "data = pd.read_csv(url, skiprows=6, on_bad_lines='skip')\n",
    "\n",
    "# Display the first few rows of the data to check the format\n",
    "print(data.head(10))\n",
    "\n",
    "# Check the column names\n",
    "print(data.columns)\n",
    "\n",
    "# Manually inspect the data and adjust the column names\n",
    "data.columns = ['date', 'rain', 'temp', 'wetb', 'dewpt', 'vappr', 'rhum', 'msl', 'wdsp', 'wddir', 'ww', 'w', 'sun', 'vis', 'clht', 'clamt']\n",
    "\n",
    "# Convert the date column to datetime format\n",
    "data['date'] = pd.to_datetime(data['date'])\n",
    "\n",
    "# Plot the temperature\n",
    "plt.figure(figsize=(10, 5))\n",
    "plt.plot(data['date'], data['temp'], label='Temperature')\n",
    "plt.xlabel('Date')\n",
    "plt.ylabel('Temperature (°C)')\n",
    "plt.title('Temperature Over Time')\n",
    "plt.legend()\n",
    "plt.show()\n",
    "\n",
    "# Calculate and plot the mean temperature each day\n",
    "daily_mean_temp = data.groupby(data['date'].dt.date)['temp'].mean()\n",
    "plt.figure(figsize=(10, 5))\n",
    "plt.plot(daily_mean_temp.index, daily_mean_temp.values, label='Daily Mean Temperature')\n",
    "plt.xlabel('Date')\n",
    "plt.ylabel('Mean Temperature (°C)')\n",
    "plt.title('Daily Mean Temperature')\n",
    "plt.legend()\n",
    "plt.show()\n",
    "\n",
    "# Calculate and plot the mean temperature for each month\n",
    "monthly_mean_temp = data.groupby(data['date'].dt.to_period('M'))['temp'].mean()\n",
    "plt.figure(figsize=(10, 5))\n",
    "plt.plot(monthly_mean_temp.index.astype(str), monthly_mean_temp.values, label='Monthly Mean Temperature')\n",
    "plt.xlabel('Month')\n",
    "plt.ylabel('Mean Temperature (°C)')\n",
    "plt.title('Monthly Mean Temperature')\n",
    "plt.legend()\n",
    "plt.show()\n"
   ]
  },
  {
   "cell_type": "code",
   "execution_count": 43,
   "metadata": {},
   "outputs": [
    {
     "name": "stdout",
     "output_type": "stream",
     "text": [
      "            rain:  -  Precipitation Amount (mm)\\t  \n",
      "0                   temp:  -  Air Temperature (C)\\t\n",
      "1                wetb:  -  Wet Bulb Temperature (C)\n",
      "2  dewpt: -  Dew Point Temperature (C)             \n",
      "3                   rhum:  -  Relative Humidity (%)\n",
      "4                vappr: -  Vapour Pressure (hPa)\\t \n",
      "5           msl:   -  Mean Sea Level Pressure (hPa)\n",
      "6                  wdsp:  -  Mean Wind Speed (knot)\n",
      "7     wddir: -  Predominant Wind Direction (degree)\n",
      "8          ww:    -  Synop code for Present Weather\n",
      "9             w:     -  Synop code for Past Weather\n",
      "Index(['rain:  -  Precipitation Amount (mm)\\t  '], dtype='object')\n"
     ]
    },
    {
     "ename": "ValueError",
     "evalue": "Length mismatch: Expected axis has 1 elements, new values have 16 elements",
     "output_type": "error",
     "traceback": [
      "\u001b[0;31m---------------------------------------------------------------------------\u001b[0m",
      "\u001b[0;31mValueError\u001b[0m                                Traceback (most recent call last)",
      "\u001b[1;32m/workspaces/programming-for-data-analytics/assignments/assignment_6_Weather.ipynb Cell 7\u001b[0m line \u001b[0;36m1\n\u001b[1;32m     <a href='vscode-notebook-cell://codespaces%2Bzany-xylophone-7vvqq4wqj9j62p9v9/workspaces/programming-for-data-analytics/assignments/assignment_6_Weather.ipynb#X41sdnNjb2RlLXJlbW90ZQ%3D%3D?line=11'>12</a>\u001b[0m \u001b[39mprint\u001b[39m(data\u001b[39m.\u001b[39mcolumns)\n\u001b[1;32m     <a href='vscode-notebook-cell://codespaces%2Bzany-xylophone-7vvqq4wqj9j62p9v9/workspaces/programming-for-data-analytics/assignments/assignment_6_Weather.ipynb#X41sdnNjb2RlLXJlbW90ZQ%3D%3D?line=13'>14</a>\u001b[0m \u001b[39m# Manually inspect the data and adjust the column names\u001b[39;00m\n\u001b[0;32m---> <a href='vscode-notebook-cell://codespaces%2Bzany-xylophone-7vvqq4wqj9j62p9v9/workspaces/programming-for-data-analytics/assignments/assignment_6_Weather.ipynb#X41sdnNjb2RlLXJlbW90ZQ%3D%3D?line=14'>15</a>\u001b[0m data\u001b[39m.\u001b[39;49mcolumns \u001b[39m=\u001b[39m [\u001b[39m'\u001b[39m\u001b[39mdate\u001b[39m\u001b[39m'\u001b[39m, \u001b[39m'\u001b[39m\u001b[39mrain\u001b[39m\u001b[39m'\u001b[39m, \u001b[39m'\u001b[39m\u001b[39mtemp\u001b[39m\u001b[39m'\u001b[39m, \u001b[39m'\u001b[39m\u001b[39mwetb\u001b[39m\u001b[39m'\u001b[39m, \u001b[39m'\u001b[39m\u001b[39mdewpt\u001b[39m\u001b[39m'\u001b[39m, \u001b[39m'\u001b[39m\u001b[39mvappr\u001b[39m\u001b[39m'\u001b[39m, \u001b[39m'\u001b[39m\u001b[39mrhum\u001b[39m\u001b[39m'\u001b[39m, \u001b[39m'\u001b[39m\u001b[39mmsl\u001b[39m\u001b[39m'\u001b[39m, \u001b[39m'\u001b[39m\u001b[39mwdsp\u001b[39m\u001b[39m'\u001b[39m, \u001b[39m'\u001b[39m\u001b[39mwddir\u001b[39m\u001b[39m'\u001b[39m, \u001b[39m'\u001b[39m\u001b[39mww\u001b[39m\u001b[39m'\u001b[39m, \u001b[39m'\u001b[39m\u001b[39mw\u001b[39m\u001b[39m'\u001b[39m, \u001b[39m'\u001b[39m\u001b[39msun\u001b[39m\u001b[39m'\u001b[39m, \u001b[39m'\u001b[39m\u001b[39mvis\u001b[39m\u001b[39m'\u001b[39m, \u001b[39m'\u001b[39m\u001b[39mclht\u001b[39m\u001b[39m'\u001b[39m, \u001b[39m'\u001b[39m\u001b[39mclamt\u001b[39m\u001b[39m'\u001b[39m]\n\u001b[1;32m     <a href='vscode-notebook-cell://codespaces%2Bzany-xylophone-7vvqq4wqj9j62p9v9/workspaces/programming-for-data-analytics/assignments/assignment_6_Weather.ipynb#X41sdnNjb2RlLXJlbW90ZQ%3D%3D?line=16'>17</a>\u001b[0m \u001b[39m# Convert the date column to datetime format\u001b[39;00m\n\u001b[1;32m     <a href='vscode-notebook-cell://codespaces%2Bzany-xylophone-7vvqq4wqj9j62p9v9/workspaces/programming-for-data-analytics/assignments/assignment_6_Weather.ipynb#X41sdnNjb2RlLXJlbW90ZQ%3D%3D?line=17'>18</a>\u001b[0m data[\u001b[39m'\u001b[39m\u001b[39mdate\u001b[39m\u001b[39m'\u001b[39m] \u001b[39m=\u001b[39m pd\u001b[39m.\u001b[39mto_datetime(data[\u001b[39m'\u001b[39m\u001b[39mdate\u001b[39m\u001b[39m'\u001b[39m])\n",
      "File \u001b[0;32m~/.local/lib/python3.12/site-packages/pandas/core/generic.py:6313\u001b[0m, in \u001b[0;36mNDFrame.__setattr__\u001b[0;34m(self, name, value)\u001b[0m\n\u001b[1;32m   6311\u001b[0m \u001b[39mtry\u001b[39;00m:\n\u001b[1;32m   6312\u001b[0m     \u001b[39mobject\u001b[39m\u001b[39m.\u001b[39m\u001b[39m__getattribute__\u001b[39m(\u001b[39mself\u001b[39m, name)\n\u001b[0;32m-> 6313\u001b[0m     \u001b[39mreturn\u001b[39;00m \u001b[39mobject\u001b[39;49m\u001b[39m.\u001b[39;49m\u001b[39m__setattr__\u001b[39;49m(\u001b[39mself\u001b[39;49m, name, value)\n\u001b[1;32m   6314\u001b[0m \u001b[39mexcept\u001b[39;00m \u001b[39mAttributeError\u001b[39;00m:\n\u001b[1;32m   6315\u001b[0m     \u001b[39mpass\u001b[39;00m\n",
      "File \u001b[0;32mproperties.pyx:69\u001b[0m, in \u001b[0;36mpandas._libs.properties.AxisProperty.__set__\u001b[0;34m()\u001b[0m\n",
      "File \u001b[0;32m~/.local/lib/python3.12/site-packages/pandas/core/generic.py:814\u001b[0m, in \u001b[0;36mNDFrame._set_axis\u001b[0;34m(self, axis, labels)\u001b[0m\n\u001b[1;32m    809\u001b[0m \u001b[39m\u001b[39m\u001b[39m\"\"\"\u001b[39;00m\n\u001b[1;32m    810\u001b[0m \u001b[39mThis is called from the cython code when we set the `index` attribute\u001b[39;00m\n\u001b[1;32m    811\u001b[0m \u001b[39mdirectly, e.g. `series.index = [1, 2, 3]`.\u001b[39;00m\n\u001b[1;32m    812\u001b[0m \u001b[39m\"\"\"\u001b[39;00m\n\u001b[1;32m    813\u001b[0m labels \u001b[39m=\u001b[39m ensure_index(labels)\n\u001b[0;32m--> 814\u001b[0m \u001b[39mself\u001b[39;49m\u001b[39m.\u001b[39;49m_mgr\u001b[39m.\u001b[39;49mset_axis(axis, labels)\n\u001b[1;32m    815\u001b[0m \u001b[39mself\u001b[39m\u001b[39m.\u001b[39m_clear_item_cache()\n",
      "File \u001b[0;32m~/.local/lib/python3.12/site-packages/pandas/core/internals/managers.py:238\u001b[0m, in \u001b[0;36mBaseBlockManager.set_axis\u001b[0;34m(self, axis, new_labels)\u001b[0m\n\u001b[1;32m    236\u001b[0m \u001b[39mdef\u001b[39;00m \u001b[39mset_axis\u001b[39m(\u001b[39mself\u001b[39m, axis: AxisInt, new_labels: Index) \u001b[39m-\u001b[39m\u001b[39m>\u001b[39m \u001b[39mNone\u001b[39;00m:\n\u001b[1;32m    237\u001b[0m     \u001b[39m# Caller is responsible for ensuring we have an Index object.\u001b[39;00m\n\u001b[0;32m--> 238\u001b[0m     \u001b[39mself\u001b[39;49m\u001b[39m.\u001b[39;49m_validate_set_axis(axis, new_labels)\n\u001b[1;32m    239\u001b[0m     \u001b[39mself\u001b[39m\u001b[39m.\u001b[39maxes[axis] \u001b[39m=\u001b[39m new_labels\n",
      "File \u001b[0;32m~/.local/lib/python3.12/site-packages/pandas/core/internals/base.py:98\u001b[0m, in \u001b[0;36mDataManager._validate_set_axis\u001b[0;34m(self, axis, new_labels)\u001b[0m\n\u001b[1;32m     95\u001b[0m     \u001b[39mpass\u001b[39;00m\n\u001b[1;32m     97\u001b[0m \u001b[39melif\u001b[39;00m new_len \u001b[39m!=\u001b[39m old_len:\n\u001b[0;32m---> 98\u001b[0m     \u001b[39mraise\u001b[39;00m \u001b[39mValueError\u001b[39;00m(\n\u001b[1;32m     99\u001b[0m         \u001b[39mf\u001b[39m\u001b[39m\"\u001b[39m\u001b[39mLength mismatch: Expected axis has \u001b[39m\u001b[39m{\u001b[39;00mold_len\u001b[39m}\u001b[39;00m\u001b[39m elements, new \u001b[39m\u001b[39m\"\u001b[39m\n\u001b[1;32m    100\u001b[0m         \u001b[39mf\u001b[39m\u001b[39m\"\u001b[39m\u001b[39mvalues have \u001b[39m\u001b[39m{\u001b[39;00mnew_len\u001b[39m}\u001b[39;00m\u001b[39m elements\u001b[39m\u001b[39m\"\u001b[39m\n\u001b[1;32m    101\u001b[0m     )\n",
      "\u001b[0;31mValueError\u001b[0m: Length mismatch: Expected axis has 1 elements, new values have 16 elements"
     ]
    }
   ],
   "source": [
    "import pandas as pd\n",
    "import matplotlib.pyplot as plt\n",
    "\n",
    "# Load the data with error handling and skip the first few rows\n",
    "url = 'https://cli.fusio.net/cli/climate_data/webdata/hly4935.csv'\n",
    "data = pd.read_csv(url, skiprows=6, on_bad_lines='skip')\n",
    "\n",
    "# Display the first few rows of the data to check the format\n",
    "print(data.head(10))\n",
    "\n",
    "# Check the column names\n",
    "print(data.columns)\n",
    "\n",
    "# Manually inspect the data and adjust the column names\n",
    "data.columns = ['date', 'rain', 'temp', 'wetb', 'dewpt', 'vappr', 'rhum', 'msl', 'wdsp', 'wddir', 'ww', 'w', 'sun', 'vis', 'clht', 'clamt']\n",
    "\n",
    "# Convert the date column to datetime format\n",
    "data['date'] = pd.to_datetime(data['date'])\n",
    "\n",
    "# Plot the temperature\n",
    "plt.figure(figsize=(10, 5))\n",
    "plt.plot(data['date'], data['temp'], label='Temperature')\n",
    "plt.xlabel('Date')\n",
    "plt.ylabel('Temperature (°C)')\n",
    "plt.title('Temperature Over Time')\n",
    "plt.legend()\n",
    "plt.show()\n",
    "\n",
    "# Calculate and plot the mean temperature each day\n",
    "daily_mean_temp = data.groupby(data['date'].dt.date)['temp'].mean()\n",
    "plt.figure(figsize=(10, 5))\n",
    "plt.plot(daily_mean_temp.index, daily_mean_temp.values, label='Daily Mean Temperature')\n",
    "plt.xlabel('Date')\n",
    "plt.ylabel('Mean Temperature (°C)')\n",
    "plt.title('Daily Mean Temperature')\n",
    "plt.legend()\n",
    "plt.show()\n",
    "\n",
    "# Calculate and plot the mean temperature for each month\n",
    "monthly_mean_temp = data.groupby(data['date'].dt.to_period('M'))['temp'].mean()\n",
    "plt.figure(figsize=(10, 5))\n",
    "plt.plot(monthly_mean_temp.index.astype(str), monthly_mean_temp.values, label='Monthly Mean Temperature')\n",
    "plt.xlabel('Month')\n",
    "plt.ylabel('Mean Temperature (°C)')\n",
    "plt.title('Monthly Mean Temperature')\n",
    "plt.legend()\n",
    "plt.show()\n"
   ]
  },
  {
   "cell_type": "code",
   "execution_count": 44,
   "metadata": {},
   "outputs": [
    {
     "name": "stdout",
     "output_type": "stream",
     "text": [
      "            rain:  -  Precipitation Amount (mm)\\t  \n",
      "0                   temp:  -  Air Temperature (C)\\t\n",
      "1                wetb:  -  Wet Bulb Temperature (C)\n",
      "2  dewpt: -  Dew Point Temperature (C)             \n",
      "3                   rhum:  -  Relative Humidity (%)\n",
      "4                vappr: -  Vapour Pressure (hPa)\\t \n",
      "5           msl:   -  Mean Sea Level Pressure (hPa)\n",
      "6                  wdsp:  -  Mean Wind Speed (knot)\n",
      "7     wddir: -  Predominant Wind Direction (degree)\n",
      "8          ww:    -  Synop code for Present Weather\n",
      "9             w:     -  Synop code for Past Weather\n",
      "Index(['rain:  -  Precipitation Amount (mm)\\t  '], dtype='object')\n"
     ]
    },
    {
     "ename": "ValueError",
     "evalue": "Length mismatch: Expected axis has 1 elements, new values have 16 elements",
     "output_type": "error",
     "traceback": [
      "\u001b[0;31m---------------------------------------------------------------------------\u001b[0m",
      "\u001b[0;31mValueError\u001b[0m                                Traceback (most recent call last)",
      "\u001b[1;32m/workspaces/programming-for-data-analytics/assignments/assignment_6_Weather.ipynb Cell 8\u001b[0m line \u001b[0;36m1\n\u001b[1;32m     <a href='vscode-notebook-cell://codespaces%2Bzany-xylophone-7vvqq4wqj9j62p9v9/workspaces/programming-for-data-analytics/assignments/assignment_6_Weather.ipynb#X42sdnNjb2RlLXJlbW90ZQ%3D%3D?line=11'>12</a>\u001b[0m \u001b[39mprint\u001b[39m(data\u001b[39m.\u001b[39mcolumns)\n\u001b[1;32m     <a href='vscode-notebook-cell://codespaces%2Bzany-xylophone-7vvqq4wqj9j62p9v9/workspaces/programming-for-data-analytics/assignments/assignment_6_Weather.ipynb#X42sdnNjb2RlLXJlbW90ZQ%3D%3D?line=13'>14</a>\u001b[0m \u001b[39m# Manually inspect the data and adjust the column names\u001b[39;00m\n\u001b[0;32m---> <a href='vscode-notebook-cell://codespaces%2Bzany-xylophone-7vvqq4wqj9j62p9v9/workspaces/programming-for-data-analytics/assignments/assignment_6_Weather.ipynb#X42sdnNjb2RlLXJlbW90ZQ%3D%3D?line=14'>15</a>\u001b[0m data\u001b[39m.\u001b[39;49mcolumns \u001b[39m=\u001b[39m [\u001b[39m'\u001b[39m\u001b[39mdate\u001b[39m\u001b[39m'\u001b[39m, \u001b[39m'\u001b[39m\u001b[39mrain\u001b[39m\u001b[39m'\u001b[39m, \u001b[39m'\u001b[39m\u001b[39mtemp\u001b[39m\u001b[39m'\u001b[39m, \u001b[39m'\u001b[39m\u001b[39mwetb\u001b[39m\u001b[39m'\u001b[39m, \u001b[39m'\u001b[39m\u001b[39mdewpt\u001b[39m\u001b[39m'\u001b[39m, \u001b[39m'\u001b[39m\u001b[39mvappr\u001b[39m\u001b[39m'\u001b[39m, \u001b[39m'\u001b[39m\u001b[39mrhum\u001b[39m\u001b[39m'\u001b[39m, \u001b[39m'\u001b[39m\u001b[39mmsl\u001b[39m\u001b[39m'\u001b[39m, \u001b[39m'\u001b[39m\u001b[39mwdsp\u001b[39m\u001b[39m'\u001b[39m, \u001b[39m'\u001b[39m\u001b[39mwddir\u001b[39m\u001b[39m'\u001b[39m, \u001b[39m'\u001b[39m\u001b[39mww\u001b[39m\u001b[39m'\u001b[39m, \u001b[39m'\u001b[39m\u001b[39mw\u001b[39m\u001b[39m'\u001b[39m, \u001b[39m'\u001b[39m\u001b[39msun\u001b[39m\u001b[39m'\u001b[39m, \u001b[39m'\u001b[39m\u001b[39mvis\u001b[39m\u001b[39m'\u001b[39m, \u001b[39m'\u001b[39m\u001b[39mclht\u001b[39m\u001b[39m'\u001b[39m, \u001b[39m'\u001b[39m\u001b[39mclamt\u001b[39m\u001b[39m'\u001b[39m]\n\u001b[1;32m     <a href='vscode-notebook-cell://codespaces%2Bzany-xylophone-7vvqq4wqj9j62p9v9/workspaces/programming-for-data-analytics/assignments/assignment_6_Weather.ipynb#X42sdnNjb2RlLXJlbW90ZQ%3D%3D?line=16'>17</a>\u001b[0m \u001b[39m# Convert the date column to datetime format\u001b[39;00m\n\u001b[1;32m     <a href='vscode-notebook-cell://codespaces%2Bzany-xylophone-7vvqq4wqj9j62p9v9/workspaces/programming-for-data-analytics/assignments/assignment_6_Weather.ipynb#X42sdnNjb2RlLXJlbW90ZQ%3D%3D?line=17'>18</a>\u001b[0m data[\u001b[39m'\u001b[39m\u001b[39mdate\u001b[39m\u001b[39m'\u001b[39m] \u001b[39m=\u001b[39m pd\u001b[39m.\u001b[39mto_datetime(data[\u001b[39m'\u001b[39m\u001b[39mdate\u001b[39m\u001b[39m'\u001b[39m])\n",
      "File \u001b[0;32m~/.local/lib/python3.12/site-packages/pandas/core/generic.py:6313\u001b[0m, in \u001b[0;36mNDFrame.__setattr__\u001b[0;34m(self, name, value)\u001b[0m\n\u001b[1;32m   6311\u001b[0m \u001b[39mtry\u001b[39;00m:\n\u001b[1;32m   6312\u001b[0m     \u001b[39mobject\u001b[39m\u001b[39m.\u001b[39m\u001b[39m__getattribute__\u001b[39m(\u001b[39mself\u001b[39m, name)\n\u001b[0;32m-> 6313\u001b[0m     \u001b[39mreturn\u001b[39;00m \u001b[39mobject\u001b[39;49m\u001b[39m.\u001b[39;49m\u001b[39m__setattr__\u001b[39;49m(\u001b[39mself\u001b[39;49m, name, value)\n\u001b[1;32m   6314\u001b[0m \u001b[39mexcept\u001b[39;00m \u001b[39mAttributeError\u001b[39;00m:\n\u001b[1;32m   6315\u001b[0m     \u001b[39mpass\u001b[39;00m\n",
      "File \u001b[0;32mproperties.pyx:69\u001b[0m, in \u001b[0;36mpandas._libs.properties.AxisProperty.__set__\u001b[0;34m()\u001b[0m\n",
      "File \u001b[0;32m~/.local/lib/python3.12/site-packages/pandas/core/generic.py:814\u001b[0m, in \u001b[0;36mNDFrame._set_axis\u001b[0;34m(self, axis, labels)\u001b[0m\n\u001b[1;32m    809\u001b[0m \u001b[39m\u001b[39m\u001b[39m\"\"\"\u001b[39;00m\n\u001b[1;32m    810\u001b[0m \u001b[39mThis is called from the cython code when we set the `index` attribute\u001b[39;00m\n\u001b[1;32m    811\u001b[0m \u001b[39mdirectly, e.g. `series.index = [1, 2, 3]`.\u001b[39;00m\n\u001b[1;32m    812\u001b[0m \u001b[39m\"\"\"\u001b[39;00m\n\u001b[1;32m    813\u001b[0m labels \u001b[39m=\u001b[39m ensure_index(labels)\n\u001b[0;32m--> 814\u001b[0m \u001b[39mself\u001b[39;49m\u001b[39m.\u001b[39;49m_mgr\u001b[39m.\u001b[39;49mset_axis(axis, labels)\n\u001b[1;32m    815\u001b[0m \u001b[39mself\u001b[39m\u001b[39m.\u001b[39m_clear_item_cache()\n",
      "File \u001b[0;32m~/.local/lib/python3.12/site-packages/pandas/core/internals/managers.py:238\u001b[0m, in \u001b[0;36mBaseBlockManager.set_axis\u001b[0;34m(self, axis, new_labels)\u001b[0m\n\u001b[1;32m    236\u001b[0m \u001b[39mdef\u001b[39;00m \u001b[39mset_axis\u001b[39m(\u001b[39mself\u001b[39m, axis: AxisInt, new_labels: Index) \u001b[39m-\u001b[39m\u001b[39m>\u001b[39m \u001b[39mNone\u001b[39;00m:\n\u001b[1;32m    237\u001b[0m     \u001b[39m# Caller is responsible for ensuring we have an Index object.\u001b[39;00m\n\u001b[0;32m--> 238\u001b[0m     \u001b[39mself\u001b[39;49m\u001b[39m.\u001b[39;49m_validate_set_axis(axis, new_labels)\n\u001b[1;32m    239\u001b[0m     \u001b[39mself\u001b[39m\u001b[39m.\u001b[39maxes[axis] \u001b[39m=\u001b[39m new_labels\n",
      "File \u001b[0;32m~/.local/lib/python3.12/site-packages/pandas/core/internals/base.py:98\u001b[0m, in \u001b[0;36mDataManager._validate_set_axis\u001b[0;34m(self, axis, new_labels)\u001b[0m\n\u001b[1;32m     95\u001b[0m     \u001b[39mpass\u001b[39;00m\n\u001b[1;32m     97\u001b[0m \u001b[39melif\u001b[39;00m new_len \u001b[39m!=\u001b[39m old_len:\n\u001b[0;32m---> 98\u001b[0m     \u001b[39mraise\u001b[39;00m \u001b[39mValueError\u001b[39;00m(\n\u001b[1;32m     99\u001b[0m         \u001b[39mf\u001b[39m\u001b[39m\"\u001b[39m\u001b[39mLength mismatch: Expected axis has \u001b[39m\u001b[39m{\u001b[39;00mold_len\u001b[39m}\u001b[39;00m\u001b[39m elements, new \u001b[39m\u001b[39m\"\u001b[39m\n\u001b[1;32m    100\u001b[0m         \u001b[39mf\u001b[39m\u001b[39m\"\u001b[39m\u001b[39mvalues have \u001b[39m\u001b[39m{\u001b[39;00mnew_len\u001b[39m}\u001b[39;00m\u001b[39m elements\u001b[39m\u001b[39m\"\u001b[39m\n\u001b[1;32m    101\u001b[0m     )\n",
      "\u001b[0;31mValueError\u001b[0m: Length mismatch: Expected axis has 1 elements, new values have 16 elements"
     ]
    }
   ],
   "source": [
    "import pandas as pd\n",
    "import matplotlib.pyplot as plt\n",
    "\n",
    "# Load the data with error handling and skip the first few rows\n",
    "url = 'https://cli.fusio.net/cli/climate_data/webdata/hly4935.csv'\n",
    "data = pd.read_csv(url, skiprows=6, on_bad_lines='skip')\n",
    "\n",
    "# Display the first few rows of the data to check the format\n",
    "print(data.head(10))\n",
    "\n",
    "# Check the column names\n",
    "print(data.columns)\n",
    "\n",
    "# Manually inspect the data and adjust the column names\n",
    "data.columns = ['date', 'rain', 'temp', 'wetb', 'dewpt', 'vappr', 'rhum', 'msl', 'wdsp', 'wddir', 'ww', 'w', 'sun', 'vis', 'clht', 'clamt']\n",
    "\n",
    "# Convert the date column to datetime format\n",
    "data['date'] = pd.to_datetime(data['date'])\n",
    "\n",
    "# Plot the temperature\n",
    "plt.figure(figsize=(10, 5))\n",
    "plt.plot(data['date'], data['temp'], label='Temperature')\n",
    "plt.xlabel('Date')\n",
    "plt.ylabel('Temperature (°C)')\n",
    "plt.title('Temperature Over Time')\n",
    "plt.legend()\n",
    "plt.show()\n",
    "\n",
    "# Calculate and plot the mean temperature each day\n",
    "daily_mean_temp = data.groupby(data['date'].dt.date)['temp'].mean()\n",
    "plt.figure(figsize=(10, 5))\n",
    "plt.plot(daily_mean_temp.index, daily_mean_temp.values, label='Daily Mean Temperature')\n",
    "plt.xlabel('Date')\n",
    "plt.ylabel('Mean Temperature (°C)')\n",
    "plt.title('Daily Mean Temperature')\n",
    "plt.legend()\n",
    "plt.show()\n",
    "\n",
    "# Calculate and plot the mean temperature for each month\n",
    "monthly_mean_temp = data.groupby(data['date'].dt.to_period('M'))['temp'].mean()\n",
    "plt.figure(figsize=(10, 5))\n",
    "plt.plot(monthly_mean_temp.index.astype(str), monthly_mean_temp.values, label='Monthly Mean Temperature')\n",
    "plt.xlabel('Month')\n",
    "plt.ylabel('Mean Temperature (°C)')\n",
    "plt.title('Monthly Mean Temperature')\n",
    "plt.legend()\n",
    "plt.show()\n"
   ]
  },
  {
   "cell_type": "code",
   "execution_count": 47,
   "metadata": {},
   "outputs": [
    {
     "name": "stdout",
     "output_type": "stream",
     "text": [
      "            rain:  -  Precipitation Amount (mm)\\t  \n",
      "0                   temp:  -  Air Temperature (C)\\t\n",
      "1                wetb:  -  Wet Bulb Temperature (C)\n",
      "2  dewpt: -  Dew Point Temperature (C)             \n",
      "3                   rhum:  -  Relative Humidity (%)\n",
      "4                vappr: -  Vapour Pressure (hPa)\\t \n",
      "5           msl:   -  Mean Sea Level Pressure (hPa)\n",
      "6                  wdsp:  -  Mean Wind Speed (knot)\n",
      "7     wddir: -  Predominant Wind Direction (degree)\n",
      "8          ww:    -  Synop code for Present Weather\n",
      "9             w:     -  Synop code for Past Weather\n",
      "Index(['rain:  -  Precipitation Amount (mm)\\t  '], dtype='object')\n"
     ]
    },
    {
     "ename": "ValueError",
     "evalue": "Length mismatch: Expected axis has 1 elements, new values have 16 elements",
     "output_type": "error",
     "traceback": [
      "\u001b[0;31m---------------------------------------------------------------------------\u001b[0m",
      "\u001b[0;31mValueError\u001b[0m                                Traceback (most recent call last)",
      "\u001b[1;32m/workspaces/programming-for-data-analytics/assignments/assignment_6_Weather.ipynb Cell 9\u001b[0m line \u001b[0;36m1\n\u001b[1;32m     <a href='vscode-notebook-cell://codespaces%2Bzany-xylophone-7vvqq4wqj9j62p9v9/workspaces/programming-for-data-analytics/assignments/assignment_6_Weather.ipynb#X45sdnNjb2RlLXJlbW90ZQ%3D%3D?line=11'>12</a>\u001b[0m \u001b[39mprint\u001b[39m(data\u001b[39m.\u001b[39mcolumns)\n\u001b[1;32m     <a href='vscode-notebook-cell://codespaces%2Bzany-xylophone-7vvqq4wqj9j62p9v9/workspaces/programming-for-data-analytics/assignments/assignment_6_Weather.ipynb#X45sdnNjb2RlLXJlbW90ZQ%3D%3D?line=13'>14</a>\u001b[0m \u001b[39m# Manually inspect the data and adjust the column names\u001b[39;00m\n\u001b[0;32m---> <a href='vscode-notebook-cell://codespaces%2Bzany-xylophone-7vvqq4wqj9j62p9v9/workspaces/programming-for-data-analytics/assignments/assignment_6_Weather.ipynb#X45sdnNjb2RlLXJlbW90ZQ%3D%3D?line=14'>15</a>\u001b[0m data\u001b[39m.\u001b[39;49mcolumns \u001b[39m=\u001b[39m [\u001b[39m'\u001b[39m\u001b[39mdate\u001b[39m\u001b[39m'\u001b[39m, \u001b[39m'\u001b[39m\u001b[39mrain\u001b[39m\u001b[39m'\u001b[39m, \u001b[39m'\u001b[39m\u001b[39mtemp\u001b[39m\u001b[39m'\u001b[39m, \u001b[39m'\u001b[39m\u001b[39mwetb\u001b[39m\u001b[39m'\u001b[39m, \u001b[39m'\u001b[39m\u001b[39mdewpt\u001b[39m\u001b[39m'\u001b[39m, \u001b[39m'\u001b[39m\u001b[39mvappr\u001b[39m\u001b[39m'\u001b[39m, \u001b[39m'\u001b[39m\u001b[39mrhum\u001b[39m\u001b[39m'\u001b[39m, \u001b[39m'\u001b[39m\u001b[39mmsl\u001b[39m\u001b[39m'\u001b[39m, \u001b[39m'\u001b[39m\u001b[39mwdsp\u001b[39m\u001b[39m'\u001b[39m, \u001b[39m'\u001b[39m\u001b[39mwddir\u001b[39m\u001b[39m'\u001b[39m, \u001b[39m'\u001b[39m\u001b[39mww\u001b[39m\u001b[39m'\u001b[39m, \u001b[39m'\u001b[39m\u001b[39mw\u001b[39m\u001b[39m'\u001b[39m, \u001b[39m'\u001b[39m\u001b[39msun\u001b[39m\u001b[39m'\u001b[39m, \u001b[39m'\u001b[39m\u001b[39mvis\u001b[39m\u001b[39m'\u001b[39m, \u001b[39m'\u001b[39m\u001b[39mclht\u001b[39m\u001b[39m'\u001b[39m, \u001b[39m'\u001b[39m\u001b[39mclamt\u001b[39m\u001b[39m'\u001b[39m]\n\u001b[1;32m     <a href='vscode-notebook-cell://codespaces%2Bzany-xylophone-7vvqq4wqj9j62p9v9/workspaces/programming-for-data-analytics/assignments/assignment_6_Weather.ipynb#X45sdnNjb2RlLXJlbW90ZQ%3D%3D?line=16'>17</a>\u001b[0m \u001b[39m# Convert the date column to datetime format\u001b[39;00m\n\u001b[1;32m     <a href='vscode-notebook-cell://codespaces%2Bzany-xylophone-7vvqq4wqj9j62p9v9/workspaces/programming-for-data-analytics/assignments/assignment_6_Weather.ipynb#X45sdnNjb2RlLXJlbW90ZQ%3D%3D?line=17'>18</a>\u001b[0m data[\u001b[39m'\u001b[39m\u001b[39mdate\u001b[39m\u001b[39m'\u001b[39m] \u001b[39m=\u001b[39m pd\u001b[39m.\u001b[39mto_datetime(data[\u001b[39m'\u001b[39m\u001b[39mdate\u001b[39m\u001b[39m'\u001b[39m])\n",
      "File \u001b[0;32m~/.local/lib/python3.12/site-packages/pandas/core/generic.py:6313\u001b[0m, in \u001b[0;36mNDFrame.__setattr__\u001b[0;34m(self, name, value)\u001b[0m\n\u001b[1;32m   6311\u001b[0m \u001b[39mtry\u001b[39;00m:\n\u001b[1;32m   6312\u001b[0m     \u001b[39mobject\u001b[39m\u001b[39m.\u001b[39m\u001b[39m__getattribute__\u001b[39m(\u001b[39mself\u001b[39m, name)\n\u001b[0;32m-> 6313\u001b[0m     \u001b[39mreturn\u001b[39;00m \u001b[39mobject\u001b[39;49m\u001b[39m.\u001b[39;49m\u001b[39m__setattr__\u001b[39;49m(\u001b[39mself\u001b[39;49m, name, value)\n\u001b[1;32m   6314\u001b[0m \u001b[39mexcept\u001b[39;00m \u001b[39mAttributeError\u001b[39;00m:\n\u001b[1;32m   6315\u001b[0m     \u001b[39mpass\u001b[39;00m\n",
      "File \u001b[0;32mproperties.pyx:69\u001b[0m, in \u001b[0;36mpandas._libs.properties.AxisProperty.__set__\u001b[0;34m()\u001b[0m\n",
      "File \u001b[0;32m~/.local/lib/python3.12/site-packages/pandas/core/generic.py:814\u001b[0m, in \u001b[0;36mNDFrame._set_axis\u001b[0;34m(self, axis, labels)\u001b[0m\n\u001b[1;32m    809\u001b[0m \u001b[39m\u001b[39m\u001b[39m\"\"\"\u001b[39;00m\n\u001b[1;32m    810\u001b[0m \u001b[39mThis is called from the cython code when we set the `index` attribute\u001b[39;00m\n\u001b[1;32m    811\u001b[0m \u001b[39mdirectly, e.g. `series.index = [1, 2, 3]`.\u001b[39;00m\n\u001b[1;32m    812\u001b[0m \u001b[39m\"\"\"\u001b[39;00m\n\u001b[1;32m    813\u001b[0m labels \u001b[39m=\u001b[39m ensure_index(labels)\n\u001b[0;32m--> 814\u001b[0m \u001b[39mself\u001b[39;49m\u001b[39m.\u001b[39;49m_mgr\u001b[39m.\u001b[39;49mset_axis(axis, labels)\n\u001b[1;32m    815\u001b[0m \u001b[39mself\u001b[39m\u001b[39m.\u001b[39m_clear_item_cache()\n",
      "File \u001b[0;32m~/.local/lib/python3.12/site-packages/pandas/core/internals/managers.py:238\u001b[0m, in \u001b[0;36mBaseBlockManager.set_axis\u001b[0;34m(self, axis, new_labels)\u001b[0m\n\u001b[1;32m    236\u001b[0m \u001b[39mdef\u001b[39;00m \u001b[39mset_axis\u001b[39m(\u001b[39mself\u001b[39m, axis: AxisInt, new_labels: Index) \u001b[39m-\u001b[39m\u001b[39m>\u001b[39m \u001b[39mNone\u001b[39;00m:\n\u001b[1;32m    237\u001b[0m     \u001b[39m# Caller is responsible for ensuring we have an Index object.\u001b[39;00m\n\u001b[0;32m--> 238\u001b[0m     \u001b[39mself\u001b[39;49m\u001b[39m.\u001b[39;49m_validate_set_axis(axis, new_labels)\n\u001b[1;32m    239\u001b[0m     \u001b[39mself\u001b[39m\u001b[39m.\u001b[39maxes[axis] \u001b[39m=\u001b[39m new_labels\n",
      "File \u001b[0;32m~/.local/lib/python3.12/site-packages/pandas/core/internals/base.py:98\u001b[0m, in \u001b[0;36mDataManager._validate_set_axis\u001b[0;34m(self, axis, new_labels)\u001b[0m\n\u001b[1;32m     95\u001b[0m     \u001b[39mpass\u001b[39;00m\n\u001b[1;32m     97\u001b[0m \u001b[39melif\u001b[39;00m new_len \u001b[39m!=\u001b[39m old_len:\n\u001b[0;32m---> 98\u001b[0m     \u001b[39mraise\u001b[39;00m \u001b[39mValueError\u001b[39;00m(\n\u001b[1;32m     99\u001b[0m         \u001b[39mf\u001b[39m\u001b[39m\"\u001b[39m\u001b[39mLength mismatch: Expected axis has \u001b[39m\u001b[39m{\u001b[39;00mold_len\u001b[39m}\u001b[39;00m\u001b[39m elements, new \u001b[39m\u001b[39m\"\u001b[39m\n\u001b[1;32m    100\u001b[0m         \u001b[39mf\u001b[39m\u001b[39m\"\u001b[39m\u001b[39mvalues have \u001b[39m\u001b[39m{\u001b[39;00mnew_len\u001b[39m}\u001b[39;00m\u001b[39m elements\u001b[39m\u001b[39m\"\u001b[39m\n\u001b[1;32m    101\u001b[0m     )\n",
      "\u001b[0;31mValueError\u001b[0m: Length mismatch: Expected axis has 1 elements, new values have 16 elements"
     ]
    }
   ],
   "source": [
    "import pandas as pd\n",
    "import matplotlib.pyplot as plt\n",
    "\n",
    "# Load the data with error handling and skip the first few rows\n",
    "url = 'https://cli.fusio.net/cli/climate_data/webdata/hly4935.csv'\n",
    "data = pd.read_csv(url, skiprows=6, on_bad_lines='skip')\n",
    "\n",
    "# Display the first few rows of the data to check the format\n",
    "print(data.head(10))\n",
    "\n",
    "# Check the column names\n",
    "print(data.columns)\n",
    "\n",
    "# Manually inspect the data and adjust the column names\n",
    "data.columns = ['date', 'rain', 'temp', 'wetb', 'dewpt', 'vappr', 'rhum', 'msl', 'wdsp', 'wddir', 'ww', 'w', 'sun', 'vis', 'clht', 'clamt']\n",
    "\n",
    "# Convert the date column to datetime format\n",
    "data['date'] = pd.to_datetime(data['date'])\n",
    "\n",
    "# Plot the temperature\n",
    "plt.figure(figsize=(10, 5))\n",
    "plt.plot(data['date'], data['temp'], label='Temperature')\n",
    "plt.xlabel('Date')\n",
    "plt.ylabel('Temperature (°C)')\n",
    "plt.title('Temperature Over Time')\n",
    "plt.legend()\n",
    "plt.show()\n",
    "\n",
    "# Calculate and plot the mean temperature each day\n",
    "daily_mean_temp = data.groupby(data['date'].dt.date)['temp'].mean()\n",
    "plt.figure(figsize=(10, 5))\n",
    "plt.plot(daily_mean_temp.index, daily_mean_temp.values, label='Daily Mean Temperature')\n",
    "plt.xlabel('Date')\n",
    "plt.ylabel('Mean Temperature (°C)')\n",
    "plt.title('Daily Mean Temperature')\n",
    "plt.legend()\n",
    "plt.show()\n",
    "\n",
    "# Calculate and plot the mean temperature for each month\n",
    "monthly_mean_temp = data.groupby(data['date'].dt.to_period('M'))['temp'].mean()\n",
    "plt.figure(figsize=(10, 5))\n",
    "plt.plot(monthly_mean_temp.index.astype(str), monthly_mean_temp.values, label='Monthly Mean Temperature')\n",
    "plt.xlabel('Month')\n",
    "plt.ylabel('Mean Temperature (°C)')\n",
    "plt.title('Monthly Mean Temperature')\n",
    "plt.legend()\n",
    "plt.show()\n"
   ]
  },
  {
   "cell_type": "code",
   "execution_count": null,
   "metadata": {},
   "outputs": [
    {
     "ename": "KeyError",
     "evalue": "'date'",
     "output_type": "error",
     "traceback": [
      "\u001b[0;31m---------------------------------------------------------------------------\u001b[0m",
      "\u001b[0;31mKeyError\u001b[0m                                  Traceback (most recent call last)",
      "File \u001b[0;32m~/.local/lib/python3.12/site-packages/pandas/core/indexes/base.py:3805\u001b[0m, in \u001b[0;36mIndex.get_loc\u001b[0;34m(self, key)\u001b[0m\n\u001b[1;32m   3804\u001b[0m \u001b[39mtry\u001b[39;00m:\n\u001b[0;32m-> 3805\u001b[0m     \u001b[39mreturn\u001b[39;00m \u001b[39mself\u001b[39;49m\u001b[39m.\u001b[39;49m_engine\u001b[39m.\u001b[39;49mget_loc(casted_key)\n\u001b[1;32m   3806\u001b[0m \u001b[39mexcept\u001b[39;00m \u001b[39mKeyError\u001b[39;00m \u001b[39mas\u001b[39;00m err:\n",
      "File \u001b[0;32mindex.pyx:167\u001b[0m, in \u001b[0;36mpandas._libs.index.IndexEngine.get_loc\u001b[0;34m()\u001b[0m\n",
      "File \u001b[0;32mindex.pyx:196\u001b[0m, in \u001b[0;36mpandas._libs.index.IndexEngine.get_loc\u001b[0;34m()\u001b[0m\n",
      "File \u001b[0;32mpandas/_libs/hashtable_class_helper.pxi:7081\u001b[0m, in \u001b[0;36mpandas._libs.hashtable.PyObjectHashTable.get_item\u001b[0;34m()\u001b[0m\n",
      "File \u001b[0;32mpandas/_libs/hashtable_class_helper.pxi:7089\u001b[0m, in \u001b[0;36mpandas._libs.hashtable.PyObjectHashTable.get_item\u001b[0;34m()\u001b[0m\n",
      "\u001b[0;31mKeyError\u001b[0m: 'date'",
      "\nThe above exception was the direct cause of the following exception:\n",
      "\u001b[0;31mKeyError\u001b[0m                                  Traceback (most recent call last)",
      "\u001b[1;32m/workspaces/programming-for-data-analytics/assignments/assignment_6_Weather.ipynb Cell 7\u001b[0m line \u001b[0;36m3\n\u001b[1;32m      <a href='vscode-notebook-cell://codespaces%2Bzany-xylophone-7vvqq4wqj9j62p9v9/workspaces/programming-for-data-analytics/assignments/assignment_6_Weather.ipynb#X20sdnNjb2RlLXJlbW90ZQ%3D%3D?line=0'>1</a>\u001b[0m \u001b[39m# Plot the windspeed\u001b[39;00m\n\u001b[1;32m      <a href='vscode-notebook-cell://codespaces%2Bzany-xylophone-7vvqq4wqj9j62p9v9/workspaces/programming-for-data-analytics/assignments/assignment_6_Weather.ipynb#X20sdnNjb2RlLXJlbW90ZQ%3D%3D?line=1'>2</a>\u001b[0m plt\u001b[39m.\u001b[39mfigure(figsize\u001b[39m=\u001b[39m(\u001b[39m10\u001b[39m, \u001b[39m5\u001b[39m))\n\u001b[0;32m----> <a href='vscode-notebook-cell://codespaces%2Bzany-xylophone-7vvqq4wqj9j62p9v9/workspaces/programming-for-data-analytics/assignments/assignment_6_Weather.ipynb#X20sdnNjb2RlLXJlbW90ZQ%3D%3D?line=2'>3</a>\u001b[0m plt\u001b[39m.\u001b[39mplot(data[\u001b[39m'\u001b[39;49m\u001b[39mdate\u001b[39;49m\u001b[39m'\u001b[39;49m], data[\u001b[39m'\u001b[39m\u001b[39mwindspeed\u001b[39m\u001b[39m'\u001b[39m], label\u001b[39m=\u001b[39m\u001b[39m'\u001b[39m\u001b[39mWindspeed\u001b[39m\u001b[39m'\u001b[39m)\n\u001b[1;32m      <a href='vscode-notebook-cell://codespaces%2Bzany-xylophone-7vvqq4wqj9j62p9v9/workspaces/programming-for-data-analytics/assignments/assignment_6_Weather.ipynb#X20sdnNjb2RlLXJlbW90ZQ%3D%3D?line=3'>4</a>\u001b[0m plt\u001b[39m.\u001b[39mxlabel(\u001b[39m'\u001b[39m\u001b[39mDate\u001b[39m\u001b[39m'\u001b[39m)\n\u001b[1;32m      <a href='vscode-notebook-cell://codespaces%2Bzany-xylophone-7vvqq4wqj9j62p9v9/workspaces/programming-for-data-analytics/assignments/assignment_6_Weather.ipynb#X20sdnNjb2RlLXJlbW90ZQ%3D%3D?line=4'>5</a>\u001b[0m plt\u001b[39m.\u001b[39mylabel(\u001b[39m'\u001b[39m\u001b[39mWindspeed (km/h)\u001b[39m\u001b[39m'\u001b[39m)\n",
      "File \u001b[0;32m~/.local/lib/python3.12/site-packages/pandas/core/frame.py:4102\u001b[0m, in \u001b[0;36mDataFrame.__getitem__\u001b[0;34m(self, key)\u001b[0m\n\u001b[1;32m   4100\u001b[0m \u001b[39mif\u001b[39;00m \u001b[39mself\u001b[39m\u001b[39m.\u001b[39mcolumns\u001b[39m.\u001b[39mnlevels \u001b[39m>\u001b[39m \u001b[39m1\u001b[39m:\n\u001b[1;32m   4101\u001b[0m     \u001b[39mreturn\u001b[39;00m \u001b[39mself\u001b[39m\u001b[39m.\u001b[39m_getitem_multilevel(key)\n\u001b[0;32m-> 4102\u001b[0m indexer \u001b[39m=\u001b[39m \u001b[39mself\u001b[39;49m\u001b[39m.\u001b[39;49mcolumns\u001b[39m.\u001b[39;49mget_loc(key)\n\u001b[1;32m   4103\u001b[0m \u001b[39mif\u001b[39;00m is_integer(indexer):\n\u001b[1;32m   4104\u001b[0m     indexer \u001b[39m=\u001b[39m [indexer]\n",
      "File \u001b[0;32m~/.local/lib/python3.12/site-packages/pandas/core/indexes/base.py:3812\u001b[0m, in \u001b[0;36mIndex.get_loc\u001b[0;34m(self, key)\u001b[0m\n\u001b[1;32m   3807\u001b[0m     \u001b[39mif\u001b[39;00m \u001b[39misinstance\u001b[39m(casted_key, \u001b[39mslice\u001b[39m) \u001b[39mor\u001b[39;00m (\n\u001b[1;32m   3808\u001b[0m         \u001b[39misinstance\u001b[39m(casted_key, abc\u001b[39m.\u001b[39mIterable)\n\u001b[1;32m   3809\u001b[0m         \u001b[39mand\u001b[39;00m \u001b[39many\u001b[39m(\u001b[39misinstance\u001b[39m(x, \u001b[39mslice\u001b[39m) \u001b[39mfor\u001b[39;00m x \u001b[39min\u001b[39;00m casted_key)\n\u001b[1;32m   3810\u001b[0m     ):\n\u001b[1;32m   3811\u001b[0m         \u001b[39mraise\u001b[39;00m InvalidIndexError(key)\n\u001b[0;32m-> 3812\u001b[0m     \u001b[39mraise\u001b[39;00m \u001b[39mKeyError\u001b[39;00m(key) \u001b[39mfrom\u001b[39;00m \u001b[39merr\u001b[39;00m\n\u001b[1;32m   3813\u001b[0m \u001b[39mexcept\u001b[39;00m \u001b[39mTypeError\u001b[39;00m:\n\u001b[1;32m   3814\u001b[0m     \u001b[39m# If we have a listlike key, _check_indexing_error will raise\u001b[39;00m\n\u001b[1;32m   3815\u001b[0m     \u001b[39m#  InvalidIndexError. Otherwise we fall through and re-raise\u001b[39;00m\n\u001b[1;32m   3816\u001b[0m     \u001b[39m#  the TypeError.\u001b[39;00m\n\u001b[1;32m   3817\u001b[0m     \u001b[39mself\u001b[39m\u001b[39m.\u001b[39m_check_indexing_error(key)\n",
      "\u001b[0;31mKeyError\u001b[0m: 'date'"
     ]
    },
    {
     "data": {
      "text/plain": [
       "<Figure size 1000x500 with 0 Axes>"
      ]
     },
     "metadata": {},
     "output_type": "display_data"
    }
   ],
   "source": [
    "# Plot the windspeed\n",
    "plt.figure(figsize=(10, 5))\n",
    "plt.plot(data['date'], data['windspeed'], label='Windspeed')\n",
    "plt.xlabel('Date')\n",
    "plt.ylabel('Windspeed (km/h)')\n",
    "plt.title('Windspeed Over Time')\n",
    "plt.legend()\n",
    "plt.show()\n",
    "\n",
    "# Calculate and plot the rolling windspeed (24 hours)\n",
    "rolling_windspeed = data['windspeed'].rolling(window=24).mean()\n",
    "plt.figure(figsize=(10, 5))\n",
    "plt.plot(data['date'], rolling_windspeed, label='24-Hour Rolling Windspeed')\n",
    "plt.xlabel('Date')\n",
    "plt.ylabel('Windspeed (km/h)')\n",
    "plt.title('24-Hour Rolling Windspeed')\n",
    "plt.legend()\n",
    "plt.show()\n",
    "\n",
    "# Calculate and plot the max windspeed for each day\n",
    "daily_max_windspeed = data.groupby(data['date'].dt.date)['windspeed'].max()\n",
    "plt.figure(figsize=(10, 5))\n",
    "plt.plot(daily_max_windspeed.index, daily_max_windspeed.values, label='Daily Max Windspeed')\n",
    "plt.xlabel('Date')\n",
    "plt.ylabel('Max Windspeed (km/h)')\n",
    "plt.title('Daily Max Windspeed')\n",
    "plt.legend()\n",
    "plt.show()\n",
    "\n",
    "# Calculate and plot the monthly mean of daily max windspeeds\n",
    "monthly_mean_max_windspeed = daily_max_windspeed.groupby(pd.to_datetime(daily_max_windspeed.index).to_period('M')).mean()\n",
    "plt.figure(figsize=(10, 5))\n",
    "plt.plot(monthly_mean_max_windspeed.index.astype(str), monthly_mean_max_windspeed.values, label='Monthly Mean of Daily Max Windspeeds')\n",
    "plt.xlabel('Month')\n",
    "plt.ylabel('Mean Max Windspeed (km/h)')\n",
    "plt.title('Monthly Mean of Daily Max Windspeeds')\n",
    "plt.legend()\n",
    "plt.show()\n"
   ]
  }
 ],
 "metadata": {
  "language_info": {
   "name": "python"
  }
 },
 "nbformat": 4,
 "nbformat_minor": 2
}
